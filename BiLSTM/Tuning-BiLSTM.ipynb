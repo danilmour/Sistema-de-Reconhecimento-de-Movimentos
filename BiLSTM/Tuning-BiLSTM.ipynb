{
 "cells": [
  {
   "cell_type": "code",
   "execution_count": 1,
   "metadata": {},
   "outputs": [
    {
     "data": {
      "text/plain": [
       "((7352, 1, 561), (7352, 7), (2947, 1, 561), (2947, 7))"
      ]
     },
     "execution_count": 1,
     "metadata": {},
     "output_type": "execute_result"
    }
   ],
   "source": [
    "import pandas as pd\n",
    "import numpy as np\n",
    "from keras.utils import *\n",
    "\n",
    "X_train = pd.read_csv(\"../Dataset/UCI HAR Dataset/UCI HAR Dataset/train/X_train.txt\", header=None, sep=\"\\s+\")\n",
    "y_train = pd.read_csv(\"../Dataset/UCI HAR Dataset/UCI HAR Dataset/train/y_train.txt\", header=None)\n",
    "\n",
    "X_test = pd.read_csv(\"../Dataset/UCI HAR Dataset/UCI HAR Dataset/test/X_test.txt\", header=None, sep=\"\\s+\")\n",
    "y_test = pd.read_csv(\"../Dataset/UCI HAR Dataset/UCI HAR Dataset/test/y_test.txt\", header=None)\n",
    "\n",
    "X_train = np.reshape(X_train, (X_train.shape[0], 1, X_train.shape[1]))\n",
    "X_test = np.reshape(X_test, (X_test.shape[0], 1, X_test.shape[1]))\n",
    "\n",
    "y_train = to_categorical(y_train)\n",
    "y_test = to_categorical(y_test)\n",
    "\n",
    "X_train.shape, y_train.shape, X_test.shape, y_test.shape"
   ]
  },
  {
   "cell_type": "code",
   "execution_count": 2,
   "metadata": {},
   "outputs": [],
   "source": [
    "from keras.models import *\n",
    "from keras.layers import *\n",
    "from keras.optimizers import *\n",
    "\n",
    "def build_model(hp):\n",
    "    modelo = Sequential()\n",
    "    modelo.add(Bidirectional(LSTM(hp.Int(\"units_lstm_1\", min_value=1, max_value=600), return_sequences=True)))\n",
    "    modelo.add(Dropout(hp.Float(\"dropout_1\", min_value=0.001, max_value=0.5)))\n",
    "    modelo.add(Bidirectional(LSTM(hp.Int(\"units_lstm_2\", min_value=1, max_value=600))))\n",
    "    modelo.add(Dropout(hp.Float(\"dropout_2\", min_value=0.001, max_value=0.5)))\n",
    "    modelo.add(Dense(7, activation=\"sigmoid\"))\n",
    "    modelo.compile(loss=\"binary_crossentropy\", optimizer=Adam(learning_rate=hp.Choice(\"learning_rate\", [0.0001, 0.001, 0.01])), metrics=[\"accuracy\"])\n",
    "    return modelo"
   ]
  },
  {
   "cell_type": "code",
   "execution_count": 3,
   "metadata": {},
   "outputs": [
    {
     "name": "stdout",
     "output_type": "stream",
     "text": [
      "Trial 10 Complete [01h 04m 32s]\n",
      "accuracy: 0.7660500407218933\n",
      "\n",
      "Best accuracy So Far: 0.97633296251297\n",
      "Total elapsed time: 2d 17h 29m 35s\n"
     ]
    }
   ],
   "source": [
    "from keras_tuner import *\n",
    "from keras.callbacks import *\n",
    "\n",
    "tuner = BayesianOptimization(hypermodel=build_model, objective='accuracy')\n",
    "tuner.search(X_train, y_train, validation_data=(X_test, y_test), epochs=20, batch_size=10, callbacks=[EarlyStopping(patience=2)])"
   ]
  },
  {
   "cell_type": "code",
   "execution_count": 4,
   "metadata": {},
   "outputs": [
    {
     "name": "stdout",
     "output_type": "stream",
     "text": [
      "Units LSTM 1: 92\n",
      "Dropout 1: 0.3227008199881794\n",
      "Units LSTM 2: 18\n",
      "Dropout 2: 0.4575568770239258\n",
      "Learning Rate: 0.0001\n"
     ]
    }
   ],
   "source": [
    "hyperparameters = tuner.get_best_hyperparameters()[0]\n",
    "print(f\"Units LSTM 1: {hyperparameters.get('units_lstm_1')}\")\n",
    "print(f\"Dropout 1: {hyperparameters.get('dropout_1')}\")\n",
    "print(f\"Units LSTM 2: {hyperparameters.get('units_lstm_2')}\")\n",
    "print(f\"Dropout 2: {hyperparameters.get('dropout_2')}\")\n",
    "print(f\"Learning Rate: {hyperparameters.get('learning_rate')}\")"
   ]
  },
  {
   "cell_type": "code",
   "execution_count": 15,
   "metadata": {},
   "outputs": [
    {
     "name": "stdout",
     "output_type": "stream",
     "text": [
      "WARNING:tensorflow:Detecting that an object or model or tf.train.Checkpoint is being deleted with unrestored values. See the following logs for the specific values in question. To silence these warnings, use `status.expect_partial()`. See https://www.tensorflow.org/api_docs/python/tf/train/Checkpoint#restorefor details about the status object returned by the restore function.\n",
      "WARNING:tensorflow:Value in checkpoint could not be found in the restored object: (root).optimizer.iter\n",
      "WARNING:tensorflow:Value in checkpoint could not be found in the restored object: (root).optimizer.beta_1\n",
      "WARNING:tensorflow:Value in checkpoint could not be found in the restored object: (root).optimizer.beta_2\n",
      "WARNING:tensorflow:Value in checkpoint could not be found in the restored object: (root).optimizer.decay\n",
      "WARNING:tensorflow:Value in checkpoint could not be found in the restored object: (root).optimizer.learning_rate\n",
      "Model: \"sequential\"\n",
      "_________________________________________________________________\n",
      " Layer (type)                Output Shape              Param #   \n",
      "=================================================================\n",
      " bidirectional (Bidirectiona  (7352, 1, 184)           481344    \n",
      " l)                                                              \n",
      "                                                                 \n",
      " dropout (Dropout)           (7352, 1, 184)            0         \n",
      "                                                                 \n",
      " bidirectional_1 (Bidirectio  (7352, 36)               29232     \n",
      " nal)                                                            \n",
      "                                                                 \n",
      " dropout_1 (Dropout)         (7352, 36)                0         \n",
      "                                                                 \n",
      " dense (Dense)               (7352, 7)                 259       \n",
      "                                                                 \n",
      "=================================================================\n",
      "Total params: 510,835\n",
      "Trainable params: 510,835\n",
      "Non-trainable params: 0\n",
      "_________________________________________________________________\n"
     ]
    }
   ],
   "source": [
    "best_model = tuner.get_best_models()[0]\n",
    "best_model.build(input_shape=(7352, 1, 561))\n",
    "best_model.summary()"
   ]
  }
 ],
 "metadata": {
  "kernelspec": {
   "display_name": "Python 3 (ipykernel)",
   "language": "python",
   "name": "python3"
  },
  "language_info": {
   "codemirror_mode": {
    "name": "ipython",
    "version": 3
   },
   "file_extension": ".py",
   "mimetype": "text/x-python",
   "name": "python",
   "nbconvert_exporter": "python",
   "pygments_lexer": "ipython3",
   "version": "3.10.13"
  }
 },
 "nbformat": 4,
 "nbformat_minor": 4
}
