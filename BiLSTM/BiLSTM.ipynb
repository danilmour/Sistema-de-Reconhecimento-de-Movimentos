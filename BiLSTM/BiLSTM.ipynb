{
 "cells": [
  {
   "cell_type": "code",
   "execution_count": 7,
   "metadata": {},
   "outputs": [
    {
     "data": {
      "text/plain": [
       "((7352, 561, 1), (7352, 7), (2652, 561), (2652, 1), (6, 2))"
      ]
     },
     "execution_count": 7,
     "metadata": {},
     "output_type": "execute_result"
    }
   ],
   "source": [
    "import pandas as pd\n",
    "from keras.utils import to_categorical\n",
    "import numpy as np\n",
    "\n",
    "labels = pd.read_csv(\"../Dataset/UCI HAR Dataset/UCI HAR Dataset/activity_labels.txt\", header=None, sep=\"\\s+\")\n",
    "\n",
    "X_train = pd.read_csv(\"../Dataset/UCI HAR Dataset/UCI HAR Dataset/train/X_train.txt\", header=None, sep=\"\\s+\")\n",
    "y_train = pd.read_csv(\"../Dataset/UCI HAR Dataset/UCI HAR Dataset/train/y_train.txt\", header=None)\n",
    "X_test_val = pd.read_csv(\"../Dataset/UCI HAR Dataset/UCI HAR Dataset/test/X_test.txt\", header=None, sep=\"\\s+\")\n",
    "y_test_val = pd.read_csv(\"../Dataset/UCI HAR Dataset/UCI HAR Dataset/test/y_test.txt\", header=None)\n",
    "\n",
    "X_test = X_test_val[0:round(0.9*X_test_val.shape[0])] \n",
    "X_val = X_test_val[round(0.9*X_test_val.shape[0]):] \n",
    "y_test = y_test_val[0:round(0.9*y_test_val.shape[0])] \n",
    "y_val = y_test_val[round(0.9*y_test_val.shape[0]):] \n",
    "\n",
    "X_train = np.reshape(X_train, (X_train.shape[0], X_train.shape[1], 1))\n",
    "y_train = to_categorical(y_train)\n",
    "y_test_cat = to_categorical(y_test)\n",
    "y_val = to_categorical(y_val)\n",
    "\n",
    "X_train.shape, y_train.shape, X_test.shape, y_test.shape, labels.shape"
   ]
  },
  {
   "cell_type": "code",
   "execution_count": 2,
   "metadata": {},
   "outputs": [
    {
     "name": "stdout",
     "output_type": "stream",
     "text": [
      "WARNING:tensorflow:From C:\\Users\\daniel.a.goncalves\\Desktop\\tedi\\.venv\\Lib\\site-packages\\keras\\src\\backend.py:873: The name tf.get_default_graph is deprecated. Please use tf.compat.v1.get_default_graph instead.\n",
      "\n"
     ]
    }
   ],
   "source": [
    "from keras import Sequential\n",
    "from keras.layers import Bidirectional, LSTM, Dense, Dropout\n",
    "import keras\n",
    "\n",
    "modelo = Sequential()\n",
    "modelo.add(Bidirectional(LSTM(64, return_sequences=True)))\n",
    "modelo.add(Dropout(0.5))\n",
    "modelo.add(Bidirectional(LSTM(64)))\n",
    "modelo.add(Dropout(0.5))\n",
    "modelo.add(Dense(7, activation=\"sigmoid\"))\n",
    "\n",
    "modelo.compile(loss=\"binary_crossentropy\", optimizer=\"adam\", metrics=[\"accuracy\", \"Precision\", \"Recall\"])"
   ]
  },
  {
   "cell_type": "code",
   "execution_count": 3,
   "metadata": {},
   "outputs": [
    {
     "name": "stdout",
     "output_type": "stream",
     "text": [
      "Epoch 1/20\n",
      "WARNING:tensorflow:From C:\\Users\\daniel.a.goncalves\\Desktop\\tedi\\.venv\\Lib\\site-packages\\keras\\src\\utils\\tf_utils.py:492: The name tf.ragged.RaggedTensorValue is deprecated. Please use tf.compat.v1.ragged.RaggedTensorValue instead.\n",
      "\n",
      "WARNING:tensorflow:From C:\\Users\\daniel.a.goncalves\\Desktop\\tedi\\.venv\\Lib\\site-packages\\keras\\src\\engine\\base_layer_utils.py:384: The name tf.executing_eagerly_outside_functions is deprecated. Please use tf.compat.v1.executing_eagerly_outside_functions instead.\n",
      "\n",
      "736/736 [==============================] - 182s 239ms/step - loss: 0.2994 - accuracy: 0.4382 - precision: 0.5127 - recall: 0.2218 - f1_score: 0.3768 - val_loss: 0.1949 - val_accuracy: 0.6949 - val_precision: 0.6920 - val_recall: 0.5254 - val_f1_score: 0.6070\n",
      "Epoch 2/20\n",
      "736/736 [==============================] - 179s 243ms/step - loss: 0.1850 - accuracy: 0.7174 - precision: 0.7334 - recall: 0.6336 - f1_score: 0.6075 - val_loss: 0.1112 - val_accuracy: 0.8339 - val_precision: 0.8495 - val_recall: 0.8034 - val_f1_score: 0.7230\n",
      "Epoch 3/20\n",
      "736/736 [==============================] - 177s 241ms/step - loss: 0.1354 - accuracy: 0.8152 - precision: 0.8199 - recall: 0.7773 - f1_score: 0.6935 - val_loss: 0.0573 - val_accuracy: 0.9797 - val_precision: 0.9891 - val_recall: 0.9254 - val_f1_score: 0.8419\n",
      "Epoch 4/20\n",
      "736/736 [==============================] - 182s 247ms/step - loss: 0.1165 - accuracy: 0.8452 - precision: 0.8445 - recall: 0.8192 - f1_score: 0.7199 - val_loss: 0.0456 - val_accuracy: 0.9797 - val_precision: 0.9826 - val_recall: 0.9593 - val_f1_score: 0.8420\n",
      "Epoch 5/20\n",
      "736/736 [==============================] - 182s 247ms/step - loss: 0.1011 - accuracy: 0.8687 - precision: 0.8698 - recall: 0.8483 - f1_score: 0.7412 - val_loss: 0.0431 - val_accuracy: 0.9763 - val_precision: 0.9827 - val_recall: 0.9627 - val_f1_score: 0.8363\n",
      "Epoch 6/20\n",
      "736/736 [==============================] - 185s 251ms/step - loss: 0.0885 - accuracy: 0.8798 - precision: 0.8811 - recall: 0.8705 - f1_score: 0.7513 - val_loss: 0.0416 - val_accuracy: 0.9661 - val_precision: 0.9892 - val_recall: 0.9322 - val_f1_score: 0.8297\n",
      "Epoch 7/20\n",
      "736/736 [==============================] - 184s 250ms/step - loss: 0.0834 - accuracy: 0.8856 - precision: 0.8881 - recall: 0.8751 - f1_score: 0.7569 - val_loss: 0.0462 - val_accuracy: 0.9559 - val_precision: 0.9649 - val_recall: 0.9322 - val_f1_score: 0.8216\n",
      "Epoch 8/20\n",
      "736/736 [==============================] - 184s 250ms/step - loss: 0.0747 - accuracy: 0.8996 - precision: 0.8975 - recall: 0.8898 - f1_score: 0.7697 - val_loss: 0.0198 - val_accuracy: 0.9966 - val_precision: 0.9966 - val_recall: 0.9966 - val_f1_score: 0.8531\n",
      "Epoch 9/20\n",
      "736/736 [==============================] - 185s 251ms/step - loss: 0.0673 - accuracy: 0.9095 - precision: 0.9086 - recall: 0.9008 - f1_score: 0.7787 - val_loss: 0.0386 - val_accuracy: 0.9661 - val_precision: 0.9860 - val_recall: 0.9559 - val_f1_score: 0.8304\n",
      "Epoch 10/20\n",
      "736/736 [==============================] - 185s 252ms/step - loss: 0.0634 - accuracy: 0.9158 - precision: 0.9120 - recall: 0.9090 - f1_score: 0.7847 - val_loss: 0.0859 - val_accuracy: 0.8847 - val_precision: 0.9032 - val_recall: 0.8542 - val_f1_score: 0.7567\n",
      "Epoch 11/20\n",
      "736/736 [==============================] - 185s 252ms/step - loss: 0.0618 - accuracy: 0.9166 - precision: 0.9144 - recall: 0.9106 - f1_score: 0.7857 - val_loss: 0.0399 - val_accuracy: 0.9627 - val_precision: 0.9757 - val_recall: 0.9525 - val_f1_score: 0.8278\n",
      "Epoch 12/20\n",
      "736/736 [==============================] - 186s 253ms/step - loss: 0.0600 - accuracy: 0.9168 - precision: 0.9136 - recall: 0.9134 - f1_score: 0.7859 - val_loss: 0.0196 - val_accuracy: 0.9864 - val_precision: 0.9831 - val_recall: 0.9831 - val_f1_score: 0.8408\n",
      "Epoch 13/20\n",
      "736/736 [==============================] - 186s 252ms/step - loss: 0.0577 - accuracy: 0.9236 - precision: 0.9203 - recall: 0.9208 - f1_score: 0.7919 - val_loss: 0.0246 - val_accuracy: 0.9797 - val_precision: 0.9764 - val_recall: 0.9797 - val_f1_score: 0.8421\n",
      "Epoch 14/20\n",
      "736/736 [==============================] - 187s 254ms/step - loss: 0.0561 - accuracy: 0.9261 - precision: 0.9200 - recall: 0.9219 - f1_score: 0.7946 - val_loss: 0.0190 - val_accuracy: 0.9966 - val_precision: 0.9966 - val_recall: 0.9898 - val_f1_score: 0.8531\n",
      "Epoch 15/20\n",
      "736/736 [==============================] - 187s 255ms/step - loss: 0.0491 - accuracy: 0.9343 - precision: 0.9320 - recall: 0.9302 - f1_score: 0.8018 - val_loss: 0.0145 - val_accuracy: 0.9932 - val_precision: 0.9932 - val_recall: 0.9966 - val_f1_score: 0.8490\n",
      "Epoch 16/20\n",
      "736/736 [==============================] - 187s 254ms/step - loss: 0.0502 - accuracy: 0.9331 - precision: 0.9291 - recall: 0.9317 - f1_score: 0.8007 - val_loss: 0.0190 - val_accuracy: 0.9898 - val_precision: 0.9931 - val_recall: 0.9797 - val_f1_score: 0.8480\n",
      "Epoch 17/20\n",
      "736/736 [==============================] - 188s 255ms/step - loss: 0.0485 - accuracy: 0.9372 - precision: 0.9340 - recall: 0.9354 - f1_score: 0.8039 - val_loss: 0.0232 - val_accuracy: 0.9763 - val_precision: 0.9762 - val_recall: 0.9729 - val_f1_score: 0.8284\n",
      "Epoch 18/20\n",
      "736/736 [==============================] - 188s 256ms/step - loss: 0.0484 - accuracy: 0.9373 - precision: 0.9341 - recall: 0.9363 - f1_score: 0.8044 - val_loss: 0.0559 - val_accuracy: 0.9153 - val_precision: 0.9236 - val_recall: 0.9017 - val_f1_score: 0.7873\n",
      "Epoch 19/20\n",
      "736/736 [==============================] - 187s 255ms/step - loss: 0.0451 - accuracy: 0.9385 - precision: 0.9359 - recall: 0.9355 - f1_score: 0.8056 - val_loss: 0.0154 - val_accuracy: 0.9864 - val_precision: 0.9864 - val_recall: 0.9831 - val_f1_score: 0.8408\n",
      "Epoch 20/20\n",
      "736/736 [==============================] - 187s 255ms/step - loss: 0.0427 - accuracy: 0.9415 - precision: 0.9404 - recall: 0.9387 - f1_score: 0.8086 - val_loss: 0.0244 - val_accuracy: 0.9763 - val_precision: 0.9797 - val_recall: 0.9797 - val_f1_score: 0.8380\n"
     ]
    }
   ],
   "source": [
    "historico = modelo.fit(X_train, y_train, epochs=20, batch_size=10, validation_data=(X_val, y_val))\n",
    "modelo.save(\"ModeloBiLSTM.keras\")"
   ]
  },
  {
   "cell_type": "code",
   "execution_count": 8,
   "metadata": {},
   "outputs": [
    {
     "name": "stdout",
     "output_type": "stream",
     "text": [
      "83/83 [==============================] - 9s 107ms/step - loss: 0.1248 - accuracy: 0.8314 - precision: 0.8299 - recall: 0.8318 - f1_score: 0.7071\n",
      "Precisão do modelo: 83.1447958946228 %\n",
      "Precision do modelo: 82.99473524093628 %\n",
      "Recall do modelo: 83.18250179290771 %\n",
      "F1-Score do modelo: 98.07497262954712 %\n"
     ]
    }
   ],
   "source": [
    "_, precisao, precision, recall = modelo.evaluate(X_test, y_test_cat)\n",
    "f1_score = (2 * precision * recall) / (precision + recall)\n",
    "print(f\"Precisão do modelo: {precisao*100} %\")\n",
    "print(f\"Precision do modelo: {precision*100} %\")\n",
    "print(f\"Recall do modelo: {recall*100} %\")\n",
    "print(f\"F1-Score do modelo: {f1_score*100} %\")"
   ]
  },
  {
   "cell_type": "code",
   "execution_count": null,
   "metadata": {},
   "outputs": [],
   "source": [
    "import matplotlib.pyplot as plt\n",
    "import os\n",
    "\n",
    "os.environ[\"KMP_DUPLICATE_LIB_OK\"] = \"TRUE\"\n",
    "\n",
    "plt.plot(historico.history[\"accuracy\"])\n",
    "plt.plot(historico.history[\"val_accuracy\"])\n",
    "plt.grid()\n",
    "plt.title(\"Evolução da precisão/validação do Treino\")\n",
    "plt.legend([\"Precisão\", \"Validação\"])\n",
    "plt.xlabel(\"Época\")\n",
    "plt.xlabel(\"Precisão\")\n",
    "plt.savefig(\"Evolução Precisão Validação BiLSTM\", bbox_inches=\"tight\")"
   ]
  },
  {
   "cell_type": "code",
   "execution_count": null,
   "metadata": {},
   "outputs": [],
   "source": [
    "from sklearn.metrics import confusion_matrix, ConfusionMatrixDisplay\n",
    "\n",
    "y_previsto = modelo.predict(X_test)\n",
    "y_previsto = [np.argmax(y) for y in y_previsto]\n",
    "\n",
    "cm = confusion_matrix(y_test, y_previsto)\n",
    "display = ConfusionMatrixDisplay(cm, display_labels=labels[1])\n",
    "display.plot(xticks_rotation=\"vertical\")\n",
    "display.figure_.savefig(\"Matriz de Confusão BiLSTM\", bbox_inches=\"tight\")"
   ]
  }
 ],
 "metadata": {
  "kernelspec": {
   "display_name": "Python 3 (ipykernel)",
   "language": "python",
   "name": "python3"
  },
  "language_info": {
   "codemirror_mode": {
    "name": "ipython",
    "version": 3
   },
   "file_extension": ".py",
   "mimetype": "text/x-python",
   "name": "python",
   "nbconvert_exporter": "python",
   "pygments_lexer": "ipython3",
   "version": "3.10.13"
  }
 },
 "nbformat": 4,
 "nbformat_minor": 4
}
