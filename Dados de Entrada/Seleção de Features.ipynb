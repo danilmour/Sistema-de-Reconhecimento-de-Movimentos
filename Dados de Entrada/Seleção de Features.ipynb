{
 "cells": [
  {
   "cell_type": "markdown",
   "id": "d1e831d4-7187-4be4-b1d6-f64ae2ccc520",
   "metadata": {},
   "source": [
    "# Seleção de _Features_\n",
    "Este _notebook_ detalha a otimização dos _datasets_, utilizando o `SelectKBest` para selecionar as _features_ mais relevantes"
   ]
  },
  {
   "cell_type": "code",
   "execution_count": 1,
   "id": "dd966558-f4c1-4bdb-a143-ada4a534ffb0",
   "metadata": {},
   "outputs": [
    {
     "data": {
      "text/plain": [
       "((7352, 561), (7352,))"
      ]
     },
     "execution_count": 1,
     "metadata": {},
     "output_type": "execute_result"
    }
   ],
   "source": [
    "import pandas as pd\n",
    "import numpy as np\n",
    "\n",
    "features = pd.read_csv(\"../Dataset/UCI HAR Dataset/UCI HAR Dataset/features.txt\", header=None, sep=\"\\s+\")\n",
    "X_train = pd.read_csv(\"../Dataset/UCI HAR Dataset/UCI HAR Dataset/train/X_train.txt\", header=None, sep=\"\\s+\")\n",
    "y_train = pd.read_csv(\"../Dataset/UCI HAR Dataset/UCI HAR Dataset/train/y_train.txt\", header=None, sep=\"\\s+\")\n",
    "\n",
    "y_train = np.reshape(y_train, (y_train.shape[0]))\n",
    "\n",
    "X_train.shape, y_train.shape"
   ]
  },
  {
   "cell_type": "markdown",
   "id": "83f937a7-8cd0-4db6-a7b4-6d07c7c9cf8c",
   "metadata": {},
   "source": [
    "## Seleção das _features_ a partir dos _datasets_ de treino\n",
    "### Usando a função de seleção `f_regression`"
   ]
  },
  {
   "cell_type": "code",
   "execution_count": 2,
   "id": "0e6b3f26-c766-42ca-99c3-a4e6afb781ea",
   "metadata": {},
   "outputs": [
    {
     "data": {
      "text/html": [
       "<div>\n",
       "<style scoped>\n",
       "    .dataframe tbody tr th:only-of-type {\n",
       "        vertical-align: middle;\n",
       "    }\n",
       "\n",
       "    .dataframe tbody tr th {\n",
       "        vertical-align: top;\n",
       "    }\n",
       "\n",
       "    .dataframe thead th {\n",
       "        text-align: right;\n",
       "    }\n",
       "</style>\n",
       "<table border=\"1\" class=\"dataframe\">\n",
       "  <thead>\n",
       "    <tr style=\"text-align: right;\">\n",
       "      <th></th>\n",
       "      <th>0</th>\n",
       "      <th>1</th>\n",
       "    </tr>\n",
       "  </thead>\n",
       "  <tbody>\n",
       "    <tr>\n",
       "      <th>101</th>\n",
       "      <td>102</td>\n",
       "      <td>tBodyAccJerk-iqr()-Z</td>\n",
       "    </tr>\n",
       "    <tr>\n",
       "      <th>102</th>\n",
       "      <td>103</td>\n",
       "      <td>tBodyAccJerk-entropy()-X</td>\n",
       "    </tr>\n",
       "    <tr>\n",
       "      <th>103</th>\n",
       "      <td>104</td>\n",
       "      <td>tBodyAccJerk-entropy()-Y</td>\n",
       "    </tr>\n",
       "    <tr>\n",
       "      <th>233</th>\n",
       "      <td>234</td>\n",
       "      <td>tBodyAccJerkMag-iqr()</td>\n",
       "    </tr>\n",
       "    <tr>\n",
       "      <th>366</th>\n",
       "      <td>367</td>\n",
       "      <td>fBodyAccJerk-entropy()-X</td>\n",
       "    </tr>\n",
       "  </tbody>\n",
       "</table>\n",
       "</div>"
      ],
      "text/plain": [
       "       0                         1\n",
       "101  102      tBodyAccJerk-iqr()-Z\n",
       "102  103  tBodyAccJerk-entropy()-X\n",
       "103  104  tBodyAccJerk-entropy()-Y\n",
       "233  234     tBodyAccJerkMag-iqr()\n",
       "366  367  fBodyAccJerk-entropy()-X"
      ]
     },
     "execution_count": 2,
     "metadata": {},
     "output_type": "execute_result"
    }
   ],
   "source": [
    "from sklearn.feature_selection import SelectKBest, f_regression\n",
    "\n",
    "k = 5\n",
    "\n",
    "selector = SelectKBest(score_func=f_regression, k=k)\n",
    "X_selecionado = selector.fit_transform(X_train, y_train)\n",
    "\n",
    "indices_selecionados = np.argsort(selector.scores_)[::-1][:k]\n",
    "features_selecionadas = X_train.columns[indices_selecionados]\n",
    "resultado = features.loc[features[0].isin(features_selecionadas)]\n",
    "\n",
    "resultado"
   ]
  },
  {
   "cell_type": "markdown",
   "id": "2f27cb0e-8c4c-4f4b-a170-b6e49cccf7fb",
   "metadata": {},
   "source": [
    "### Usando a função de seleção `r_regression`"
   ]
  },
  {
   "cell_type": "code",
   "execution_count": 3,
   "id": "f7ed9e19-1e9c-4c90-8b45-d92ec9d7c94a",
   "metadata": {},
   "outputs": [
    {
     "data": {
      "text/html": [
       "<div>\n",
       "<style scoped>\n",
       "    .dataframe tbody tr th:only-of-type {\n",
       "        vertical-align: middle;\n",
       "    }\n",
       "\n",
       "    .dataframe tbody tr th {\n",
       "        vertical-align: top;\n",
       "    }\n",
       "\n",
       "    .dataframe thead th {\n",
       "        text-align: right;\n",
       "    }\n",
       "</style>\n",
       "<table border=\"1\" class=\"dataframe\">\n",
       "  <thead>\n",
       "    <tr style=\"text-align: right;\">\n",
       "      <th></th>\n",
       "      <th>0</th>\n",
       "      <th>1</th>\n",
       "    </tr>\n",
       "  </thead>\n",
       "  <tbody>\n",
       "    <tr>\n",
       "      <th>11</th>\n",
       "      <td>12</td>\n",
       "      <td>tBodyAcc-max()-Z</td>\n",
       "    </tr>\n",
       "    <tr>\n",
       "      <th>12</th>\n",
       "      <td>13</td>\n",
       "      <td>tBodyAcc-min()-X</td>\n",
       "    </tr>\n",
       "    <tr>\n",
       "      <th>91</th>\n",
       "      <td>92</td>\n",
       "      <td>tBodyAccJerk-max()-Z</td>\n",
       "    </tr>\n",
       "    <tr>\n",
       "      <th>92</th>\n",
       "      <td>93</td>\n",
       "      <td>tBodyAccJerk-min()-X</td>\n",
       "    </tr>\n",
       "    <tr>\n",
       "      <th>133</th>\n",
       "      <td>134</td>\n",
       "      <td>tBodyGyro-min()-Y</td>\n",
       "    </tr>\n",
       "  </tbody>\n",
       "</table>\n",
       "</div>"
      ],
      "text/plain": [
       "       0                     1\n",
       "11    12      tBodyAcc-max()-Z\n",
       "12    13      tBodyAcc-min()-X\n",
       "91    92  tBodyAccJerk-max()-Z\n",
       "92    93  tBodyAccJerk-min()-X\n",
       "133  134     tBodyGyro-min()-Y"
      ]
     },
     "execution_count": 3,
     "metadata": {},
     "output_type": "execute_result"
    }
   ],
   "source": [
    "from sklearn.feature_selection import r_regression\n",
    "\n",
    "k = 5\n",
    "\n",
    "selector = SelectKBest(score_func=r_regression, k=k)\n",
    "X_selecionado = selector.fit_transform(X_train, y_train)\n",
    "\n",
    "indices_selecionados = np.argsort(selector.scores_)[::-1][:k]\n",
    "features_selecionadas = X_train.columns[indices_selecionados]\n",
    "resultado = features.loc[features[0].isin(features_selecionadas)]\n",
    "\n",
    "resultado"
   ]
  }
 ],
 "metadata": {
  "kernelspec": {
   "display_name": "Python 3 (ipykernel)",
   "language": "python",
   "name": "python3"
  },
  "language_info": {
   "codemirror_mode": {
    "name": "ipython",
    "version": 3
   },
   "file_extension": ".py",
   "mimetype": "text/x-python",
   "name": "python",
   "nbconvert_exporter": "python",
   "pygments_lexer": "ipython3",
   "version": "3.10.13"
  }
 },
 "nbformat": 4,
 "nbformat_minor": 5
}
